{
 "cells": [
  {
   "cell_type": "code",
   "execution_count": 2,
   "id": "50c41bbd",
   "metadata": {},
   "outputs": [],
   "source": [
    "#Question 1- Write a RegEx pattern in python program to check that a string contains only a certain set of characters (in this case a-z, A-Z and 0-9)."
   ]
  },
  {
   "cell_type": "code",
   "execution_count": 3,
   "id": "ed256929",
   "metadata": {},
   "outputs": [],
   "source": [
    "import regex as re\n"
   ]
  },
  {
   "cell_type": "code",
   "execution_count": 10,
   "id": "31995edb",
   "metadata": {},
   "outputs": [],
   "source": [
    "pattern=\"\\w\""
   ]
  },
  {
   "cell_type": "code",
   "execution_count": 39,
   "id": "31b3d45d",
   "metadata": {},
   "outputs": [],
   "source": [
    "text=\"Hello Data Science, now its 4 pm --bye \""
   ]
  },
  {
   "cell_type": "code",
   "execution_count": 15,
   "id": "2453855a",
   "metadata": {},
   "outputs": [],
   "source": [
    "matches=re.findall(pattern, text)"
   ]
  },
  {
   "cell_type": "code",
   "execution_count": 17,
   "id": "1be43f61",
   "metadata": {},
   "outputs": [
    {
     "name": "stdout",
     "output_type": "stream",
     "text": [
      "['H', 'e', 'l', 'l', 'o', 'D', 'a', 't', 'a', 'S', 'c', 'i', 'e', 'n', 'c', 'e', 'n', 'o', 'w', 'i', 't', 's', '4', 'p', 'm', 'b', 'y', 'e']\n"
     ]
    }
   ],
   "source": [
    "print(matches)"
   ]
  },
  {
   "cell_type": "code",
   "execution_count": 18,
   "id": "08cbb1cc",
   "metadata": {},
   "outputs": [],
   "source": [
    "# Question 2- Write a RegEx pattern that matches a string that has an a followed by zero or more b's\n"
   ]
  },
  {
   "cell_type": "code",
   "execution_count": 96,
   "id": "92efe224",
   "metadata": {},
   "outputs": [],
   "source": [
    "target_string=\"apple is very good for health. one Apple a day keep doctor away. fruits are abb very good for heAlth ab's\""
   ]
  },
  {
   "cell_type": "code",
   "execution_count": 100,
   "id": "b973eed6",
   "metadata": {},
   "outputs": [],
   "source": [
    "y=re.findall(r\"a[b's]*\", target_string)"
   ]
  },
  {
   "cell_type": "code",
   "execution_count": 98,
   "id": "6131f5a8",
   "metadata": {},
   "outputs": [
    {
     "name": "stdout",
     "output_type": "stream",
     "text": [
      "['a', 'a', 'a', 'a', 'a', 'a', 'a', 'abb', \"ab's\"]\n"
     ]
    }
   ],
   "source": [
    "print(y)"
   ]
  },
  {
   "cell_type": "code",
   "execution_count": 55,
   "id": "b74f5a69",
   "metadata": {},
   "outputs": [],
   "source": [
    "#Question 3-  Write a RegEx pattern that matches a string that has an a followed by one or more b's"
   ]
  },
  {
   "cell_type": "code",
   "execution_count": 95,
   "id": "29af3360",
   "metadata": {},
   "outputs": [
    {
     "name": "stdout",
     "output_type": "stream",
     "text": [
      "['abb', \"ab's\"]\n"
     ]
    }
   ],
   "source": [
    "target_string1=\"abb is very good for health. one Able a day keep doctor away. fruits are very good for heAlth a0b, ab's\"\n",
    "y1=re.findall(r\"a[b's]+\", target_string1)                  \n",
    "print(y1)"
   ]
  },
  {
   "cell_type": "code",
   "execution_count": null,
   "id": "26924a27",
   "metadata": {},
   "outputs": [],
   "source": [
    "#uestion 4- Write a RegEx pattern that matches a string that has an a followed by zero or one 'b'."
   ]
  },
  {
   "cell_type": "code",
   "execution_count": 101,
   "id": "6b9e04bb",
   "metadata": {},
   "outputs": [
    {
     "name": "stdout",
     "output_type": "stream",
     "text": [
      "['abb', 'a', 'a', 'a', 'a', 'a', 'a', 'a', 'ab']\n"
     ]
    }
   ],
   "source": [
    "target_string2=\"abb is very good for health. one Able a day keep doctor away. fruits are very good for heAlth a0b, ab's\"\n",
    "y2=re.findall(r\"ab*\", target_string2)                  \n",
    "print(y2)"
   ]
  },
  {
   "cell_type": "code",
   "execution_count": 102,
   "id": "2593e9e6",
   "metadata": {},
   "outputs": [],
   "source": [
    "#Question 5- Write a RegEx pattern in python program that matches a string that has an a followed by three 'b'.\n"
   ]
  },
  {
   "cell_type": "code",
   "execution_count": 122,
   "id": "3c970189",
   "metadata": {},
   "outputs": [
    {
     "name": "stdout",
     "output_type": "stream",
     "text": [
      "['abbb', 'abbb']\n"
     ]
    }
   ],
   "source": [
    "target_string3=\"abbb is very good for health. one abbb le a day keep doctor away. fruits are very good for heAlth a0b, ab's\"\n",
    "y3=re.findall(r\"ab{3}\", target_string3)                  \n",
    "print(y3)"
   ]
  },
  {
   "cell_type": "code",
   "execution_count": 123,
   "id": "be7086d3",
   "metadata": {},
   "outputs": [],
   "source": [
    "#Question 6- Write a RegEx pattern in python program that matches a string that has an a followed by two to three 'b'."
   ]
  },
  {
   "cell_type": "code",
   "execution_count": 163,
   "id": "cfb43595",
   "metadata": {},
   "outputs": [],
   "source": [
    "import re"
   ]
  },
  {
   "cell_type": "code",
   "execution_count": 181,
   "id": "0c690904",
   "metadata": {},
   "outputs": [],
   "source": [
    "pattern2 = r'ab{2,3}|ab{3}' "
   ]
  },
  {
   "cell_type": "code",
   "execution_count": 185,
   "id": "6cb3059f",
   "metadata": {},
   "outputs": [],
   "source": [
    "target_string4 = 'abbb abb Abbbbb A aa abbhj aab abbbbb'"
   ]
  },
  {
   "cell_type": "code",
   "execution_count": 186,
   "id": "a4b4c9fc",
   "metadata": {
    "scrolled": true
   },
   "outputs": [],
   "source": [
    "matches = re.findall(pattern2, target_string4)"
   ]
  },
  {
   "cell_type": "code",
   "execution_count": 187,
   "id": "b109aa0d",
   "metadata": {},
   "outputs": [
    {
     "name": "stdout",
     "output_type": "stream",
     "text": [
      "['abbb', 'abb', 'abb', 'abbb']\n"
     ]
    }
   ],
   "source": [
    "print(matches)"
   ]
  },
  {
   "cell_type": "code",
   "execution_count": 188,
   "id": "d545ead6",
   "metadata": {},
   "outputs": [],
   "source": [
    "#Question 7- Write a Python program that matches a string that has an 'a' followed by anything, ending in 'b'."
   ]
  },
  {
   "cell_type": "code",
   "execution_count": null,
   "id": "a858aa12",
   "metadata": {},
   "outputs": [],
   "source": [
    "import re"
   ]
  },
  {
   "cell_type": "code",
   "execution_count": 195,
   "id": "4a11d0a6",
   "metadata": {},
   "outputs": [],
   "source": [
    "pattern3 = 'a[\\w]+b'"
   ]
  },
  {
   "cell_type": "code",
   "execution_count": 196,
   "id": "7cc95d99",
   "metadata": {},
   "outputs": [],
   "source": [
    "target_string5 = 'a00bbb aweebb Afefbbbbb A adda anfje aab'"
   ]
  },
  {
   "cell_type": "code",
   "execution_count": 197,
   "id": "f5d45dbc",
   "metadata": {},
   "outputs": [],
   "source": [
    "matches = re.findall(pattern3, target_string5)"
   ]
  },
  {
   "cell_type": "code",
   "execution_count": 198,
   "id": "773490cf",
   "metadata": {},
   "outputs": [
    {
     "name": "stdout",
     "output_type": "stream",
     "text": [
      "['a00bbb', 'aweebb', 'aab']\n"
     ]
    }
   ],
   "source": [
    "print(matches)"
   ]
  },
  {
   "cell_type": "code",
   "execution_count": 199,
   "id": "1a0b78ba",
   "metadata": {},
   "outputs": [],
   "source": [
    "#Question 8- Write a RegEx pattern in python program that matches a word at the beginning of a string"
   ]
  },
  {
   "cell_type": "code",
   "execution_count": 200,
   "id": "005d4c7b",
   "metadata": {},
   "outputs": [],
   "source": [
    "import re"
   ]
  },
  {
   "cell_type": "code",
   "execution_count": 227,
   "id": "681aabbd",
   "metadata": {},
   "outputs": [],
   "source": [
    "pattern4= r\"^\\D\""
   ]
  },
  {
   "cell_type": "code",
   "execution_count": 236,
   "id": "502270be",
   "metadata": {},
   "outputs": [],
   "source": [
    "ts=\"hi everyone 1234check data science\""
   ]
  },
  {
   "cell_type": "code",
   "execution_count": 237,
   "id": "26905c2b",
   "metadata": {},
   "outputs": [],
   "source": [
    "matches1=re.findall(pattern4, ts)"
   ]
  },
  {
   "cell_type": "code",
   "execution_count": 238,
   "id": "6f372296",
   "metadata": {},
   "outputs": [
    {
     "name": "stdout",
     "output_type": "stream",
     "text": [
      "['h']\n"
     ]
    }
   ],
   "source": [
    "print(matches1)"
   ]
  },
  {
   "cell_type": "code",
   "execution_count": 235,
   "id": "8403af7e",
   "metadata": {},
   "outputs": [],
   "source": [
    "#Question 9- Write a RegEx pattern in python program that matchs a word at the end of a string."
   ]
  },
  {
   "cell_type": "code",
   "execution_count": 239,
   "id": "384f1f9a",
   "metadata": {},
   "outputs": [],
   "source": [
    "import re"
   ]
  },
  {
   "cell_type": "code",
   "execution_count": 244,
   "id": "7328dce4",
   "metadata": {},
   "outputs": [],
   "source": [
    "pattern5= r\"\\D$\""
   ]
  },
  {
   "cell_type": "code",
   "execution_count": 245,
   "id": "38903121",
   "metadata": {},
   "outputs": [],
   "source": [
    "ts1=\"hi everyone 1234check data science\""
   ]
  },
  {
   "cell_type": "code",
   "execution_count": 246,
   "id": "f46fe6aa",
   "metadata": {},
   "outputs": [],
   "source": [
    "matches2=re.findall(pattern5, ts1)"
   ]
  },
  {
   "cell_type": "code",
   "execution_count": 247,
   "id": "66aac377",
   "metadata": {},
   "outputs": [
    {
     "name": "stdout",
     "output_type": "stream",
     "text": [
      "['e']\n"
     ]
    }
   ],
   "source": [
    "print(matches2)"
   ]
  },
  {
   "cell_type": "code",
   "execution_count": 249,
   "id": "ed710b01",
   "metadata": {},
   "outputs": [],
   "source": [
    "# Question 10- Write a RegEx pattern in python program to find all words that are 4 digits long in a string.\n",
    "# Sample text- '01 0132 231875 1458 301 2725.'\n",
    "# Expected output- ['0132', '1458', '2725']\n"
   ]
  },
  {
   "cell_type": "code",
   "execution_count": 250,
   "id": "65625081",
   "metadata": {},
   "outputs": [],
   "source": [
    "import re"
   ]
  },
  {
   "cell_type": "code",
   "execution_count": 251,
   "id": "834e9d37",
   "metadata": {},
   "outputs": [],
   "source": [
    "pattern5= r\"\\w{4}\" "
   ]
  },
  {
   "cell_type": "code",
   "execution_count": 252,
   "id": "0a6cdd8b",
   "metadata": {},
   "outputs": [],
   "source": [
    "sample_text='01 0132 231875 1458 301 2725.'"
   ]
  },
  {
   "cell_type": "code",
   "execution_count": 254,
   "id": "d68d1b07",
   "metadata": {},
   "outputs": [],
   "source": [
    "matches3=re.findall(pattern5, sample_text)"
   ]
  },
  {
   "cell_type": "code",
   "execution_count": 255,
   "id": "3172ccac",
   "metadata": {},
   "outputs": [
    {
     "name": "stdout",
     "output_type": "stream",
     "text": [
      "['0132', '2318', '1458', '2725']\n"
     ]
    }
   ],
   "source": [
    "print(matches3)"
   ]
  },
  {
   "cell_type": "code",
   "execution_count": null,
   "id": "28fee06d",
   "metadata": {},
   "outputs": [],
   "source": []
  }
 ],
 "metadata": {
  "kernelspec": {
   "display_name": "Python 3 (ipykernel)",
   "language": "python",
   "name": "python3"
  },
  "language_info": {
   "codemirror_mode": {
    "name": "ipython",
    "version": 3
   },
   "file_extension": ".py",
   "mimetype": "text/x-python",
   "name": "python",
   "nbconvert_exporter": "python",
   "pygments_lexer": "ipython3",
   "version": "3.11.3"
  }
 },
 "nbformat": 4,
 "nbformat_minor": 5
}
