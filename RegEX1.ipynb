{
 "cells": [
  {
   "cell_type": "code",
   "execution_count": 2,
   "id": "b3120b58",
   "metadata": {},
   "outputs": [],
   "source": [
    "#Question 1- Write a RegEx pattern in python program to check that a string contains only a certain set of characters (in this case a-z, A-Z and 0-9)."
   ]
  },
  {
   "cell_type": "code",
   "execution_count": 3,
   "id": "46574101",
   "metadata": {},
   "outputs": [],
   "source": [
    "import regex as re\n"
   ]
  },
  {
   "cell_type": "code",
   "execution_count": 10,
   "id": "9c8923d7",
   "metadata": {},
   "outputs": [],
   "source": [
    "pattern=\"\\w\""
   ]
  },
  {
   "cell_type": "code",
   "execution_count": 39,
   "id": "3dce1165",
   "metadata": {},
   "outputs": [],
   "source": [
    "text=\"Hello Data Science, now its 4 pm --bye \""
   ]
  },
  {
   "cell_type": "code",
   "execution_count": 15,
   "id": "369f1070",
   "metadata": {},
   "outputs": [],
   "source": [
    "matches=re.findall(pattern, text)"
   ]
  },
  {
   "cell_type": "code",
   "execution_count": 17,
   "id": "d91eb3b8",
   "metadata": {},
   "outputs": [
    {
     "name": "stdout",
     "output_type": "stream",
     "text": [
      "['H', 'e', 'l', 'l', 'o', 'D', 'a', 't', 'a', 'S', 'c', 'i', 'e', 'n', 'c', 'e', 'n', 'o', 'w', 'i', 't', 's', '4', 'p', 'm', 'b', 'y', 'e']\n"
     ]
    }
   ],
   "source": [
    "print(matches)"
   ]
  },
  {
   "cell_type": "code",
   "execution_count": 18,
   "id": "76431bfc",
   "metadata": {},
   "outputs": [],
   "source": [
    "# Question 2- Write a RegEx pattern that matches a string that has an a followed by zero or more b's\n"
   ]
  },
  {
   "cell_type": "code",
   "execution_count": 96,
   "id": "44f1b91d",
   "metadata": {},
   "outputs": [],
   "source": [
    "target_string=\"apple is very good for health. one Apple a day keep doctor away. fruits are abb very good for heAlth ab's\""
   ]
  },
  {
   "cell_type": "code",
   "execution_count": 100,
   "id": "15b79ee5",
   "metadata": {},
   "outputs": [],
   "source": [
    "y=re.findall(r\"a[b's]*\", target_string)"
   ]
  },
  {
   "cell_type": "code",
   "execution_count": 98,
   "id": "6f8f66f3",
   "metadata": {},
   "outputs": [
    {
     "name": "stdout",
     "output_type": "stream",
     "text": [
      "['a', 'a', 'a', 'a', 'a', 'a', 'a', 'abb', \"ab's\"]\n"
     ]
    }
   ],
   "source": [
    "print(y)"
   ]
  },
  {
   "cell_type": "code",
   "execution_count": 55,
   "id": "0b1eb612",
   "metadata": {},
   "outputs": [],
   "source": [
    "#Question 3-  Write a RegEx pattern that matches a string that has an a followed by one or more b's"
   ]
  },
  {
   "cell_type": "code",
   "execution_count": 95,
   "id": "d86fbb65",
   "metadata": {},
   "outputs": [
    {
     "name": "stdout",
     "output_type": "stream",
     "text": [
      "['abb', \"ab's\"]\n"
     ]
    }
   ],
   "source": [
    "target_string1=\"abb is very good for health. one Able a day keep doctor away. fruits are very good for heAlth a0b, ab's\"\n",
    "y1=re.findall(r\"a[b's]+\", target_string1)                  \n",
    "print(y1)"
   ]
  },
  {
   "cell_type": "code",
   "execution_count": null,
   "id": "217554b7",
   "metadata": {},
   "outputs": [],
   "source": [
    "#uestion 4- Write a RegEx pattern that matches a string that has an a followed by zero or one 'b'."
   ]
  },
  {
   "cell_type": "code",
   "execution_count": 101,
   "id": "2c9f3933",
   "metadata": {},
   "outputs": [
    {
     "name": "stdout",
     "output_type": "stream",
     "text": [
      "['abb', 'a', 'a', 'a', 'a', 'a', 'a', 'a', 'ab']\n"
     ]
    }
   ],
   "source": [
    "target_string2=\"abb is very good for health. one Able a day keep doctor away. fruits are very good for heAlth a0b, ab's\"\n",
    "y2=re.findall(r\"ab*\", target_string2)                  \n",
    "print(y2)"
   ]
  },
  {
   "cell_type": "code",
   "execution_count": 102,
   "id": "153d19e3",
   "metadata": {},
   "outputs": [],
   "source": [
    "#Question 5- Write a RegEx pattern in python program that matches a string that has an a followed by three 'b'.\n"
   ]
  },
  {
   "cell_type": "code",
   "execution_count": 122,
   "id": "9ecf4edd",
   "metadata": {},
   "outputs": [
    {
     "name": "stdout",
     "output_type": "stream",
     "text": [
      "['abbb', 'abbb']\n"
     ]
    }
   ],
   "source": [
    "target_string3=\"abbb is very good for health. one abbb le a day keep doctor away. fruits are very good for heAlth a0b, ab's\"\n",
    "y3=re.findall(r\"ab{3}\", target_string3)                  \n",
    "print(y3)"
   ]
  },
  {
   "cell_type": "code",
   "execution_count": 123,
   "id": "7cff9abe",
   "metadata": {},
   "outputs": [],
   "source": [
    "#Question 6- Write a RegEx pattern in python program that matches a string that has an a followed by two to three 'b'."
   ]
  },
  {
   "cell_type": "code",
   "execution_count": 163,
   "id": "ba431dd0",
   "metadata": {},
   "outputs": [],
   "source": [
    "import re"
   ]
  },
  {
   "cell_type": "code",
   "execution_count": 181,
   "id": "00d678bf",
   "metadata": {},
   "outputs": [],
   "source": [
    "pattern2 = r'ab{2,3}|ab{3}' "
   ]
  },
  {
   "cell_type": "code",
   "execution_count": 185,
   "id": "c3c2663c",
   "metadata": {},
   "outputs": [],
   "source": [
    "target_string4 = 'abbb abb Abbbbb A aa abbhj aab abbbbb'"
   ]
  },
  {
   "cell_type": "code",
   "execution_count": 186,
   "id": "2b624fcc",
   "metadata": {
    "scrolled": true
   },
   "outputs": [],
   "source": [
    "matches = re.findall(pattern2, target_string4)"
   ]
  },
  {
   "cell_type": "code",
   "execution_count": 187,
   "id": "676b112a",
   "metadata": {},
   "outputs": [
    {
     "name": "stdout",
     "output_type": "stream",
     "text": [
      "['abbb', 'abb', 'abb', 'abbb']\n"
     ]
    }
   ],
   "source": [
    "print(matches)"
   ]
  },
  {
   "cell_type": "code",
   "execution_count": 188,
   "id": "f893cd67",
   "metadata": {},
   "outputs": [],
   "source": [
    "#Question 7- Write a Python program that matches a string that has an 'a' followed by anything, ending in 'b'."
   ]
  },
  {
   "cell_type": "code",
   "execution_count": null,
   "id": "6a837331",
   "metadata": {},
   "outputs": [],
   "source": [
    "import re"
   ]
  },
  {
   "cell_type": "code",
   "execution_count": 195,
   "id": "a9fe973d",
   "metadata": {},
   "outputs": [],
   "source": [
    "pattern3 = 'a[\\w]+b'"
   ]
  },
  {
   "cell_type": "code",
   "execution_count": 196,
   "id": "5e9156a8",
   "metadata": {},
   "outputs": [],
   "source": [
    "target_string5 = 'a00bbb aweebb Afefbbbbb A adda anfje aab'"
   ]
  },
  {
   "cell_type": "code",
   "execution_count": 197,
   "id": "6ce0e30b",
   "metadata": {},
   "outputs": [],
   "source": [
    "matches = re.findall(pattern3, target_string5)"
   ]
  },
  {
   "cell_type": "code",
   "execution_count": 198,
   "id": "3ff71b09",
   "metadata": {},
   "outputs": [
    {
     "name": "stdout",
     "output_type": "stream",
     "text": [
      "['a00bbb', 'aweebb', 'aab']\n"
     ]
    }
   ],
   "source": [
    "print(matches)"
   ]
  },
  {
   "cell_type": "code",
   "execution_count": 199,
   "id": "68c84052",
   "metadata": {},
   "outputs": [],
   "source": [
    "#Question 8- Write a RegEx pattern in python program that matches a word at the beginning of a string"
   ]
  },
  {
   "cell_type": "code",
   "execution_count": 200,
   "id": "29cd4fef",
   "metadata": {},
   "outputs": [],
   "source": [
    "import re"
   ]
  },
  {
   "cell_type": "code",
   "execution_count": 227,
   "id": "673f8fa0",
   "metadata": {},
   "outputs": [],
   "source": [
    "pattern4= r\"^\\D\""
   ]
  },
  {
   "cell_type": "code",
   "execution_count": 236,
   "id": "ee17b13a",
   "metadata": {},
   "outputs": [],
   "source": [
    "ts=\"hi everyone 1234check data science\""
   ]
  },
  {
   "cell_type": "code",
   "execution_count": 237,
   "id": "ec20dc32",
   "metadata": {},
   "outputs": [],
   "source": [
    "matches1=re.findall(pattern4, ts)"
   ]
  },
  {
   "cell_type": "code",
   "execution_count": 238,
   "id": "3251dbb2",
   "metadata": {},
   "outputs": [
    {
     "name": "stdout",
     "output_type": "stream",
     "text": [
      "['h']\n"
     ]
    }
   ],
   "source": [
    "print(matches1)"
   ]
  },
  {
   "cell_type": "code",
   "execution_count": 235,
   "id": "0dfe6275",
   "metadata": {},
   "outputs": [],
   "source": [
    "#Question 9- Write a RegEx pattern in python program that matchs a word at the end of a string."
   ]
  },
  {
   "cell_type": "code",
   "execution_count": 239,
   "id": "68b4b09a",
   "metadata": {},
   "outputs": [],
   "source": [
    "import re"
   ]
  },
  {
   "cell_type": "code",
   "execution_count": 244,
   "id": "2314f290",
   "metadata": {},
   "outputs": [],
   "source": [
    "pattern5= r\"\\D$\""
   ]
  },
  {
   "cell_type": "code",
   "execution_count": 245,
   "id": "426adf20",
   "metadata": {},
   "outputs": [],
   "source": [
    "ts1=\"hi everyone 1234check data science\""
   ]
  },
  {
   "cell_type": "code",
   "execution_count": 246,
   "id": "28c130fc",
   "metadata": {},
   "outputs": [],
   "source": [
    "matches2=re.findall(pattern5, ts1)"
   ]
  },
  {
   "cell_type": "code",
   "execution_count": 247,
   "id": "d452698d",
   "metadata": {},
   "outputs": [
    {
     "name": "stdout",
     "output_type": "stream",
     "text": [
      "['e']\n"
     ]
    }
   ],
   "source": [
    "print(matches2)"
   ]
  },
  {
   "cell_type": "code",
   "execution_count": 249,
   "id": "4fabf79f",
   "metadata": {},
   "outputs": [],
   "source": [
    "# Question 10- Write a RegEx pattern in python program to find all words that are 4 digits long in a string.\n",
    "# Sample text- '01 0132 231875 1458 301 2725.'\n",
    "# Expected output- ['0132', '1458', '2725']\n"
   ]
  },
  {
   "cell_type": "code",
   "execution_count": 1,
   "id": "7387d6e2",
   "metadata": {},
   "outputs": [],
   "source": [
    "import re"
   ]
  },
  {
   "cell_type": "code",
   "execution_count": 29,
   "id": "8ee820e7",
   "metadata": {},
   "outputs": [],
   "source": [
    "pattern5= r\"\\b\\w{4}\\b\" "
   ]
  },
  {
   "cell_type": "code",
   "execution_count": 30,
   "id": "9d9dc03f",
   "metadata": {},
   "outputs": [],
   "source": [
    "sample_text='01 0132 231875 1458 301 2725.'"
   ]
  },
  {
   "cell_type": "code",
   "execution_count": 31,
   "id": "ec4db3f5",
   "metadata": {},
   "outputs": [],
   "source": [
    "matches3=re.findall(pattern5, sample_text)"
   ]
  },
  {
   "cell_type": "code",
   "execution_count": 32,
   "id": "fa9fb567",
   "metadata": {},
   "outputs": [
    {
     "name": "stdout",
     "output_type": "stream",
     "text": [
      "['0132', '1458', '2725']\n"
     ]
    }
   ],
   "source": [
    "print(matches3)"
   ]
  },
  {
   "cell_type": "code",
   "execution_count": null,
   "id": "5aeb323f",
   "metadata": {},
   "outputs": [],
   "source": []
  },
  {
   "cell_type": "code",
   "execution_count": null,
   "id": "0c1c0319",
   "metadata": {},
   "outputs": [],
   "source": []
  }
 ],
 "metadata": {
  "kernelspec": {
   "display_name": "Python 3 (ipykernel)",
   "language": "python",
   "name": "python3"
  },
  "language_info": {
   "codemirror_mode": {
    "name": "ipython",
    "version": 3
   },
   "file_extension": ".py",
   "mimetype": "text/x-python",
   "name": "python",
   "nbconvert_exporter": "python",
   "pygments_lexer": "ipython3",
   "version": "3.11.3"
  }
 },
 "nbformat": 4,
 "nbformat_minor": 5
}
