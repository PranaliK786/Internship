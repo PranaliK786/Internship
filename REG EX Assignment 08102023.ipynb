{
 "cells": [
  {
   "cell_type": "markdown",
   "id": "ced11b63",
   "metadata": {},
   "source": [
    "# Regular Expressions Assignment\n"
   ]
  },
  {
   "cell_type": "markdown",
   "id": "8cf28800",
   "metadata": {},
   "source": [
    "Question 1- Write a Python program to replace all occurrences of a space, comma, or dot with a colon.\n",
    "Sample Text- 'Python Exercises, PHP exercises.'\n",
    "Expected Output: Python:Exercises::PHP:exercises:"
   ]
  },
  {
   "cell_type": "code",
   "execution_count": 38,
   "id": "5eec866f",
   "metadata": {},
   "outputs": [],
   "source": [
    "word1='.'"
   ]
  },
  {
   "cell_type": "code",
   "execution_count": 41,
   "id": "96173776",
   "metadata": {},
   "outputs": [
    {
     "data": {
      "text/plain": [
       "'Python:Exercises::PHP:exercises:'"
      ]
     },
     "execution_count": 41,
     "metadata": {},
     "output_type": "execute_result"
    }
   ],
   "source": [
    "\n",
    "word1.replace(',',':').replace(' ',':').replace('.',':')\n"
   ]
  },
  {
   "cell_type": "code",
   "execution_count": null,
   "id": "77e2e201",
   "metadata": {},
   "outputs": [],
   "source": []
  },
  {
   "cell_type": "markdown",
   "id": "33e683c5",
   "metadata": {},
   "source": [
    " Question 2-  Write a Python program to find all words starting with 'a' or 'e' in a given string."
   ]
  },
  {
   "cell_type": "code",
   "execution_count": 42,
   "id": "26324e18",
   "metadata": {},
   "outputs": [],
   "source": [
    "import re"
   ]
  },
  {
   "cell_type": "code",
   "execution_count": null,
   "id": "9d24bb5e",
   "metadata": {},
   "outputs": [],
   "source": []
  },
  {
   "cell_type": "code",
   "execution_count": 91,
   "id": "53e1362c",
   "metadata": {},
   "outputs": [],
   "source": [
    "message1=[\"apple mango banana eat write\"]\n"
   ]
  },
  {
   "cell_type": "code",
   "execution_count": 95,
   "id": "ff1195cb",
   "metadata": {},
   "outputs": [],
   "source": [
    "Pattern = r\"\\b[ae]*\\b\""
   ]
  },
  {
   "cell_type": "raw",
   "id": "409911d1",
   "metadata": {},
   "source": [
    "result1=re.findall(pattern,message1)"
   ]
  },
  {
   "cell_type": "code",
   "execution_count": 96,
   "id": "739a42f1",
   "metadata": {},
   "outputs": [
    {
     "ename": "NameError",
     "evalue": "name 'result1' is not defined",
     "output_type": "error",
     "traceback": [
      "\u001b[1;31m---------------------------------------------------------------------------\u001b[0m",
      "\u001b[1;31mNameError\u001b[0m                                 Traceback (most recent call last)",
      "Cell \u001b[1;32mIn[96], line 1\u001b[0m\n\u001b[1;32m----> 1\u001b[0m \u001b[38;5;28mprint\u001b[39m(result1)\n",
      "\u001b[1;31mNameError\u001b[0m: name 'result1' is not defined"
     ]
    }
   ],
   "source": [
    "print(result1)"
   ]
  },
  {
   "cell_type": "code",
   "execution_count": 98,
   "id": "16d688ac",
   "metadata": {
    "scrolled": true
   },
   "outputs": [],
   "source": [
    "# Question 3- Create a function in python to find all words that are at least 4 characters long in a string. The use of the re.compile() method is mandatory."
   ]
  },
  {
   "cell_type": "code",
   "execution_count": 25,
   "id": "164862cf",
   "metadata": {},
   "outputs": [],
   "source": [
    "import re"
   ]
  },
  {
   "cell_type": "code",
   "execution_count": 44,
   "id": "8fe59cee",
   "metadata": {},
   "outputs": [],
   "source": [
    "string=\"Ram, went to school every day with his friends\"\n"
   ]
  },
  {
   "cell_type": "code",
   "execution_count": 57,
   "id": "36cb08fa",
   "metadata": {},
   "outputs": [],
   "source": [
    "prog= re.compile(r\"\\b\\w{4}+\")"
   ]
  },
  {
   "cell_type": "code",
   "execution_count": 58,
   "id": "84b1661d",
   "metadata": {},
   "outputs": [],
   "source": [
    "result= prog.findall(string)"
   ]
  },
  {
   "cell_type": "code",
   "execution_count": 59,
   "id": "c8558632",
   "metadata": {},
   "outputs": [
    {
     "name": "stdout",
     "output_type": "stream",
     "text": [
      "['went', 'scho', 'ever', 'with', 'frie']\n"
     ]
    }
   ],
   "source": [
    "print(result)"
   ]
  },
  {
   "cell_type": "code",
   "execution_count": 60,
   "id": "e237baf3",
   "metadata": {},
   "outputs": [],
   "source": [
    "# Question 4- Create a function in python to find all three, four, and five character words in a string. The use of the re.compile() method is mandatory."
   ]
  },
  {
   "cell_type": "code",
   "execution_count": 61,
   "id": "08fef03f",
   "metadata": {},
   "outputs": [],
   "source": [
    "string1=\"Ram, went to school every day with his friends\""
   ]
  },
  {
   "cell_type": "code",
   "execution_count": 107,
   "id": "8d29d30d",
   "metadata": {},
   "outputs": [],
   "source": [
    "prog1= re.compile(r\"\\b\\w{3,5}\")"
   ]
  },
  {
   "cell_type": "code",
   "execution_count": 108,
   "id": "9b46d4c0",
   "metadata": {},
   "outputs": [],
   "source": [
    "result1= prog1.findall(string1)"
   ]
  },
  {
   "cell_type": "code",
   "execution_count": 109,
   "id": "ee55d24d",
   "metadata": {},
   "outputs": [
    {
     "name": "stdout",
     "output_type": "stream",
     "text": [
      "['Ram', 'went', 'schoo', 'every', 'day', 'with', 'his', 'frien']\n"
     ]
    }
   ],
   "source": [
    "print(result1)"
   ]
  },
  {
   "cell_type": "code",
   "execution_count": 110,
   "id": "dfc9a5f3",
   "metadata": {},
   "outputs": [
    {
     "ename": "SyntaxError",
     "evalue": "invalid syntax (2225491031.py, line 2)",
     "output_type": "error",
     "traceback": [
      "\u001b[1;36m  Cell \u001b[1;32mIn[110], line 2\u001b[1;36m\u001b[0m\n\u001b[1;33m    Sample Text: [\"example (.com)\", \"hr@fliprobo (.com)\", \"github (.com)\", \"Hello (Data Science World)\", \"Data (Scientist)\"]\u001b[0m\n\u001b[1;37m           ^\u001b[0m\n\u001b[1;31mSyntaxError\u001b[0m\u001b[1;31m:\u001b[0m invalid syntax\n"
     ]
    }
   ],
   "source": [
    "#Question 5- Create a function in Python to remove the parenthesis in a list of strings. The use of the re.compile() method is mandatory.\n",
    "Sample Text: [\"example (.com)\", \"hr@fliprobo (.com)\", \"github (.com)\", \"Hello (Data Science World)\", \"Data (Scientist)\"]\n",
    "Expected Output:\n",
    "example.com\n",
    "hr@fliprobo.com\n",
    "github.com\n",
    "Hello Data Science World\n",
    "Data Scientist\n"
   ]
  },
  {
   "cell_type": "code",
   "execution_count": 111,
   "id": "fb09c87f",
   "metadata": {},
   "outputs": [],
   "source": [
    "import re"
   ]
  },
  {
   "cell_type": "code",
   "execution_count": 112,
   "id": "997693b2",
   "metadata": {},
   "outputs": [],
   "source": [
    "sample_text=[\"example (.com)\", \"hr@fliprobo (.com)\", \"github (.com)\", \"Hello (Data Science World)\", \"Data (Scientist)\"]"
   ]
  },
  {
   "cell_type": "code",
   "execution_count": 121,
   "id": "ecb71fae",
   "metadata": {},
   "outputs": [],
   "source": [
    "prog2=re.compile(r'\\([^)]*\\)')"
   ]
  },
  {
   "cell_type": "code",
   "execution_count": 123,
   "id": "206d9ab5",
   "metadata": {},
   "outputs": [
    {
     "ename": "TypeError",
     "evalue": "expected string or bytes-like object, got 'list'",
     "output_type": "error",
     "traceback": [
      "\u001b[1;31m---------------------------------------------------------------------------\u001b[0m",
      "\u001b[1;31mTypeError\u001b[0m                                 Traceback (most recent call last)",
      "Cell \u001b[1;32mIn[123], line 1\u001b[0m\n\u001b[1;32m----> 1\u001b[0m result2\u001b[38;5;241m=\u001b[39mprog2\u001b[38;5;241m.\u001b[39mmatch(sample_text)\n",
      "\u001b[1;31mTypeError\u001b[0m: expected string or bytes-like object, got 'list'"
     ]
    }
   ],
   "source": [
    "result2=prog2.match(sample_text)"
   ]
  },
  {
   "cell_type": "code",
   "execution_count": 124,
   "id": "c8809f75",
   "metadata": {},
   "outputs": [
    {
     "ename": "SyntaxError",
     "evalue": "invalid character '“' (U+201C) (579814400.py, line 2)",
     "output_type": "error",
     "traceback": [
      "\u001b[1;36m  Cell \u001b[1;32mIn[124], line 2\u001b[1;36m\u001b[0m\n\u001b[1;33m    Sample text: “ImportanceOfRegularExpressionsInPython”\u001b[0m\n\u001b[1;37m                 ^\u001b[0m\n\u001b[1;31mSyntaxError\u001b[0m\u001b[1;31m:\u001b[0m invalid character '“' (U+201C)\n"
     ]
    }
   ],
   "source": [
    "#Question 7- Write a regular expression in Python to split a string into uppercase letters.\n",
    "Sample text: “ImportanceOfRegularExpressionsInPython”\n",
    "Expected Output: [‘Importance’, ‘Of’, ‘Regular’, ‘Expression’, ‘In’, ‘Python’]\n",
    "\n"
   ]
  },
  {
   "cell_type": "code",
   "execution_count": 127,
   "id": "6d0ea823",
   "metadata": {},
   "outputs": [],
   "source": [
    "S1= \"ImportanceOfRegularExpressionsInPython\""
   ]
  },
  {
   "cell_type": "code",
   "execution_count": 159,
   "id": "7ccf226c",
   "metadata": {},
   "outputs": [],
   "source": [
    "pattern = re.compile(r'[A-Z][a-z]+')\n"
   ]
  },
  {
   "cell_type": "code",
   "execution_count": 160,
   "id": "5801adae",
   "metadata": {},
   "outputs": [],
   "source": [
    "r1=pattern.findall(S1)"
   ]
  },
  {
   "cell_type": "code",
   "execution_count": 161,
   "id": "73241887",
   "metadata": {},
   "outputs": [
    {
     "name": "stdout",
     "output_type": "stream",
     "text": [
      "['Importance', 'Of', 'Regular', 'Expressions', 'In', 'Python']\n"
     ]
    }
   ],
   "source": [
    "print(r1)"
   ]
  },
  {
   "cell_type": "markdown",
   "id": "83a54897",
   "metadata": {},
   "source": [
    "Question 8- Create a function in python to insert spaces between words starting with numbers.\n",
    "Sample Text: “RegularExpression1IsAn2ImportantTopic3InPython\"\n",
    "Expected Output: RegularExpression 1IsAn 2ImportantTopic 3InPython\n"
   ]
  },
  {
   "cell_type": "code",
   "execution_count": null,
   "id": "52bf79e1",
   "metadata": {},
   "outputs": [],
   "source": []
  },
  {
   "cell_type": "code",
   "execution_count": 240,
   "id": "e2437320",
   "metadata": {},
   "outputs": [],
   "source": [
    "text='RegularExpression1IsAn2ImportantTopic3InPython'"
   ]
  },
  {
   "cell_type": "code",
   "execution_count": 241,
   "id": "028d2b32",
   "metadata": {},
   "outputs": [],
   "source": [
    "pattern = r'(\\d+)([A-Za-z])'\n",
    "  "
   ]
  },
  {
   "cell_type": "code",
   "execution_count": 255,
   "id": "ea9a0d7c",
   "metadata": {},
   "outputs": [
    {
     "ename": "SyntaxError",
     "evalue": "'return' outside function (3622783889.py, line 1)",
     "output_type": "error",
     "traceback": [
      "\u001b[1;36m  Cell \u001b[1;32mIn[255], line 1\u001b[1;36m\u001b[0m\n\u001b[1;33m    return re.sub(r\"\\d \\1\\2\", text)\u001b[0m\n\u001b[1;37m    ^\u001b[0m\n\u001b[1;31mSyntaxError\u001b[0m\u001b[1;31m:\u001b[0m 'return' outside function\n"
     ]
    }
   ],
   "source": [
    "return re.sub(r\"\\d \\1\\2\", text)\n",
    "  "
   ]
  },
  {
   "cell_type": "code",
   "execution_count": null,
   "id": "30f8cc58",
   "metadata": {},
   "outputs": [],
   "source": []
  },
  {
   "cell_type": "code",
   "execution_count": 253,
   "id": "660d6a90",
   "metadata": {},
   "outputs": [
    {
     "name": "stdout",
     "output_type": "stream",
     "text": [
      "RegularExpression1 IsAn2 ImportantTopic3 InPython\n"
     ]
    }
   ],
   "source": [
    "print(result)"
   ]
  },
  {
   "cell_type": "markdown",
   "id": "64776cd7",
   "metadata": {},
   "source": [
    "Question 9- Create a function in python to insert spaces between words starting with capital letters or with numbers.\n",
    "Sample Text: “RegularExpression1IsAn2ImportantTopic3InPython\"\n",
    "Expected Output:  RegularExpression 1 IsAn 2 ImportantTopic 3 InPython\n"
   ]
  },
  {
   "cell_type": "code",
   "execution_count": 321,
   "id": "37c19236",
   "metadata": {},
   "outputs": [],
   "source": [
    "text = \"RegularExpression1IsAn2ImportantTopic3InPython\""
   ]
  },
  {
   "cell_type": "code",
   "execution_count": 322,
   "id": "34cd537a",
   "metadata": {},
   "outputs": [],
   "source": [
    "pattern = re.compile(r'(\\d)([A-Za-z]+)')"
   ]
  },
  {
   "cell_type": "code",
   "execution_count": 323,
   "id": "178eae75",
   "metadata": {},
   "outputs": [],
   "source": [
    "modified_text = pattern.sub(r'\\1 \\2', text)"
   ]
  },
  {
   "cell_type": "code",
   "execution_count": 324,
   "id": "c4417c1c",
   "metadata": {},
   "outputs": [
    {
     "name": "stdout",
     "output_type": "stream",
     "text": [
      "RegularExpression1 IsAn2 ImportantTopic3 InPython\n"
     ]
    }
   ],
   "source": [
    "print(modified_text)"
   ]
  },
  {
   "cell_type": "markdown",
   "id": "9da35c65",
   "metadata": {},
   "source": [
    "Question 11- Write a Python program to match a string that contains only upper and lowercase letters, numbers, and underscores."
   ]
  },
  {
   "cell_type": "code",
   "execution_count": 369,
   "id": "d9039fee",
   "metadata": {},
   "outputs": [],
   "source": [
    "text1=\"Prnali 123 4626efrt pra_nAa\""
   ]
  },
  {
   "cell_type": "code",
   "execution_count": 379,
   "id": "2593dcaf",
   "metadata": {},
   "outputs": [],
   "source": [
    "prog11 = r'\\b[a-zA-Z0-9_]+$'"
   ]
  },
  {
   "cell_type": "code",
   "execution_count": 380,
   "id": "58523a55",
   "metadata": {},
   "outputs": [],
   "source": [
    "re3=re.findall(prog11,text1)"
   ]
  },
  {
   "cell_type": "code",
   "execution_count": 381,
   "id": "034b005f",
   "metadata": {},
   "outputs": [
    {
     "name": "stdout",
     "output_type": "stream",
     "text": [
      "['pra_nAa']\n"
     ]
    }
   ],
   "source": [
    "print(re3)"
   ]
  },
  {
   "cell_type": "markdown",
   "id": "cb5ccb3b",
   "metadata": {},
   "source": [
    "Question 12- Write a Python program where a string will start with a specific number. \n",
    "\n"
   ]
  },
  {
   "cell_type": "code",
   "execution_count": 448,
   "id": "21994b69",
   "metadata": {},
   "outputs": [],
   "source": [
    "st=\"123mango is good f22or health\""
   ]
  },
  {
   "cell_type": "code",
   "execution_count": 457,
   "id": "b6bd0705",
   "metadata": {},
   "outputs": [],
   "source": [
    "prog13 = r'^[0-9]+'"
   ]
  },
  {
   "cell_type": "code",
   "execution_count": 458,
   "id": "b763f004",
   "metadata": {},
   "outputs": [],
   "source": [
    "output=re.findall(prog13,st)"
   ]
  },
  {
   "cell_type": "code",
   "execution_count": 459,
   "id": "19219e97",
   "metadata": {},
   "outputs": [
    {
     "name": "stdout",
     "output_type": "stream",
     "text": [
      "['123']\n"
     ]
    }
   ],
   "source": [
    "print(output)"
   ]
  },
  {
   "cell_type": "markdown",
   "id": "500b1d35",
   "metadata": {},
   "source": [
    "Question 13- Write a Python program to remove leading zeros from an IP address"
   ]
  },
  {
   "cell_type": "code",
   "execution_count": null,
   "id": "dad75e5a",
   "metadata": {},
   "outputs": [],
   "source": [
    "NOT understand"
   ]
  },
  {
   "cell_type": "markdown",
   "id": "d21484cb",
   "metadata": {},
   "source": [
    "Question 14- Write a regular expression in python to match a date string in the form of Month name followed by day number and year stored in a text file.\n",
    "Sample text :  ' On August 15th 1947 that India was declared independent from British colonialism, and the reins of control were handed over to the leaders of the Country’.\n",
    "Expected Output- August 15th 1947\n",
    "Note- Store given sample text in the text file and then extract the date string asked format.\n"
   ]
  },
  {
   "cell_type": "code",
   "execution_count": null,
   "id": "f46660e8",
   "metadata": {},
   "outputs": [],
   "source": []
  },
  {
   "cell_type": "code",
   "execution_count": null,
   "id": "5b29cd4f",
   "metadata": {},
   "outputs": [],
   "source": []
  }
 ],
 "metadata": {
  "kernelspec": {
   "display_name": "Python 3 (ipykernel)",
   "language": "python",
   "name": "python3"
  },
  "language_info": {
   "codemirror_mode": {
    "name": "ipython",
    "version": 3
   },
   "file_extension": ".py",
   "mimetype": "text/x-python",
   "name": "python",
   "nbconvert_exporter": "python",
   "pygments_lexer": "ipython3",
   "version": "3.11.3"
  }
 },
 "nbformat": 4,
 "nbformat_minor": 5
}
