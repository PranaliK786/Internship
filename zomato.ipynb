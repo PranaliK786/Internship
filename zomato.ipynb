{
 "cells": [
  {
   "cell_type": "code",
   "execution_count": null,
   "id": "6326eafc",
   "metadata": {},
   "outputs": [],
   "source": [
    "import pandas as pd\n",
    "import numpy as np\n",
    "from sklearn.model_selection import train_test_split, GridSearchCV\n",
    "from sklearn.preprocessing import StandardScaler, OneHotEncoder\n",
    "from sklearn.compose import ColumnTransformer\n",
    "from sklearn.pipeline import Pipeline\n",
    "from sklearn.ensemble import RandomForestRegressor\n",
    "from sklearn.metrics import mean_squared_error\n"
   ]
  },
  {
   "cell_type": "code",
   "execution_count": null,
   "id": "4ca21e1d",
   "metadata": {},
   "outputs": [],
   "source": [
    "# Load datasets\n",
    "url_country_code = \"https://github.com/dsrscientist/dataset4/raw/main/Country-Code.xlsx\"\n",
    "url_zomato = \"https://github.com/dsrscientist/dataset4/raw/main/zomato.csv\""
   ]
  },
  {
   "cell_type": "code",
   "execution_count": null,
   "id": "7081d459",
   "metadata": {},
   "outputs": [],
   "source": [
    "country_code = pd.read_excel(url_country_code)\n",
    "zomato = pd.read_csv(url_zomato)"
   ]
  },
  {
   "cell_type": "code",
   "execution_count": null,
   "id": "22c2c4b5",
   "metadata": {},
   "outputs": [],
   "source": [
    "# Merge datasets on Country Code\n",
    "data = pd.merge(zomato, country_code, how='left', left_on='Country Code', right_on='Country Code')\n"
   ]
  },
  {
   "cell_type": "code",
   "execution_count": null,
   "id": "29c40756",
   "metadata": {},
   "outputs": [],
   "source": [
    "# Drop unnecessary columns\n",
    "data.drop(columns=['Restaurant ID', 'Restaurant Name', 'City', 'Address', 'Locality', 'Locality Verbose',\n",
    "                   'Currency', 'Rating color', 'Rating text', 'Country Code'], inplace=True)\n"
   ]
  },
  {
   "cell_type": "code",
   "execution_count": null,
   "id": "ea531fad",
   "metadata": {},
   "outputs": [],
   "source": [
    "# Feature engineering\n",
    "# Converting 'Has Table booking', 'Has Online delivery', 'Is delivering', 'Switch to order menu' to binary values\n",
    "data.replace({'yes': 1, 'no': 0}, inplace=True)\n"
   ]
  },
  {
   "cell_type": "code",
   "execution_count": null,
   "id": "462e82f3",
   "metadata": {},
   "outputs": [],
   "source": [
    "# Handling missing values\n",
    "data.dropna(inplace=True)\n"
   ]
  },
  {
   "cell_type": "code",
   "execution_count": null,
   "id": "890f2c27",
   "metadata": {},
   "outputs": [],
   "source": [
    "# Splitting the data into features (X) and target variables (y)\n",
    "X = data.drop(columns=['Average Cost for two', 'Price range'])\n",
    "y_avg_cost = data['Average Cost for two']\n",
    "y_price_range = data['Price range']\n"
   ]
  },
  {
   "cell_type": "code",
   "execution_count": null,
   "id": "8c7743e5",
   "metadata": {},
   "outputs": [],
   "source": [
    "# Splitting the dataset into training and testing sets\n",
    "X_train, X_test, y_train_avg_cost, y_test_avg_cost, y_train_price_range, y_test_price_range = train_test_split(\n",
    "    X, y_avg_cost, y_price_range, test_size=0.2, random_state=42\n",
    ")"
   ]
  },
  {
   "cell_type": "code",
   "execution_count": null,
   "id": "2bdde254",
   "metadata": {},
   "outputs": [],
   "source": [
    "# Preprocessing pipeline\n",
    "numeric_features = X.select_dtypes(include=['float64', 'int64']).columns\n",
    "categorical_features = X.select_dtypes(include=['object']).columns\n"
   ]
  },
  {
   "cell_type": "code",
   "execution_count": null,
   "id": "f8b6354c",
   "metadata": {},
   "outputs": [],
   "source": [
    "numeric_transformer = Pipeline(steps=[\n",
    "    ('scaler', StandardScaler())\n",
    "])\n"
   ]
  },
  {
   "cell_type": "code",
   "execution_count": null,
   "id": "1afb3747",
   "metadata": {},
   "outputs": [],
   "source": [
    "categorical_transformer = Pipeline(steps=[\n",
    "    ('onehot', OneHotEncoder(handle_unknown='ignore'))\n",
    "])\n"
   ]
  },
  {
   "cell_type": "code",
   "execution_count": null,
   "id": "768e656d",
   "metadata": {},
   "outputs": [],
   "source": [
    "preprocessor = ColumnTransformer(\n",
    "    transformers=[\n",
    "        ('num', numeric_transformer, numeric_features),\n",
    "        ('cat', categorical_transformer, categorical_features)\n",
    "    ]\n",
    ")\n"
   ]
  },
  {
   "cell_type": "code",
   "execution_count": null,
   "id": "2426cdd2",
   "metadata": {},
   "outputs": [],
   "source": [
    "# Regression model for Average Cost for two\n",
    "avg_cost_model = Pipeline(steps=[\n",
    "    ('preprocessor', preprocessor),\n",
    "    ('reg', RandomForestRegressor())\n",
    "])\n"
   ]
  },
  {
   "cell_type": "code",
   "execution_count": null,
   "id": "10f6e34b",
   "metadata": {},
   "outputs": [],
   "source": [
    "# Hyperparameter tuning for Average Cost for two\n",
    "param_grid_avg_cost = {\n",
    "    'reg__n_estimators': [50, 100, 200],\n",
    "    'reg__max_depth': [None, 5, 10],\n",
    "    'reg__min_samples_split': [2, 5, 10],\n",
    "}"
   ]
  },
  {
   "cell_type": "code",
   "execution_count": null,
   "id": "4ecbec8c",
   "metadata": {},
   "outputs": [],
   "source": [
    "grid_search_avg_cost = GridSearchCV(avg_cost_model, param_grid_avg_cost, cv=5, scoring='neg_mean_squared_error')\n",
    "grid_search_avg_cost.fit(X_train, y_train_avg_cost)\n"
   ]
  },
  {
   "cell_type": "code",
   "execution_count": null,
   "id": "2ffef8f7",
   "metadata": {},
   "outputs": [],
   "source": [
    "# Best parameters and best score for Average Cost for two\n",
    "print(\"Best Parameters (Average Cost for two):\", grid_search_avg_cost.best_params_)\n",
    "print(\"Best Score (Average Cost for two):\", -grid_search_avg_cost.best_score_)\n"
   ]
  },
  {
   "cell_type": "code",
   "execution_count": null,
   "id": "a41db799",
   "metadata": {},
   "outputs": [],
   "source": [
    "# Regression model for Price range\n",
    "price_range_model = Pipeline(steps=[\n",
    "    ('preprocessor', preprocessor),\n",
    "    ('reg', RandomForestRegressor())\n",
    "])\n"
   ]
  },
  {
   "cell_type": "code",
   "execution_count": null,
   "id": "9758487b",
   "metadata": {},
   "outputs": [],
   "source": [
    "# Hyperparameter tuning for Price range\n",
    "param_grid_price_range = {\n",
    "    'reg__n_estimators': [50, 100, 200],\n",
    "    'reg__max_depth': [None, 5, 10],\n",
    "    'reg__min_samples_split': [2, 5, 10],\n",
    "}\n"
   ]
  },
  {
   "cell_type": "code",
   "execution_count": null,
   "id": "f96da542",
   "metadata": {},
   "outputs": [],
   "source": [
    "grid_search_price_range = GridSearchCV(price_range_model, param_grid_price_range, cv=5, scoring='neg_mean_squared_error')\n",
    "grid_search_price_range.fit(X_train, y_train_price_range)"
   ]
  },
  {
   "cell_type": "code",
   "execution_count": null,
   "id": "d8b876de",
   "metadata": {},
   "outputs": [],
   "source": [
    "# Best parameters and best score for Price range\n",
    "print(\"Best Parameters (Price range):\", grid_search_price_range.best_params_)\n",
    "print(\"Best Score (Price range):\", -grid_search_price_range.best_score_)"
   ]
  },
  {
   "cell_type": "code",
   "execution_count": null,
   "id": "96e8b19f",
   "metadata": {},
   "outputs": [],
   "source": [
    "# Evaluating the models on the test set\n",
    "best_avg_cost_model = grid_search_avg_cost.best_estimator_\n",
    "y_pred_avg_cost = best_avg_cost_model.predict(X_test)\n",
    "mse_avg_cost = mean_squared_error(y_test_avg_cost, y_pred_avg_cost)\n",
    "print(\"Mean Squared Error (Average Cost for two):\", mse_avg_cost)\n"
   ]
  },
  {
   "cell_type": "code",
   "execution_count": null,
   "id": "833719ee",
   "metadata": {},
   "outputs": [],
   "source": []
  },
  {
   "cell_type": "code",
   "execution_count": null,
   "id": "77b6b85c",
   "metadata": {},
   "outputs": [],
   "source": []
  },
  {
   "cell_type": "code",
   "execution_count": null,
   "id": "c1799ed7",
   "metadata": {},
   "outputs": [],
   "source": []
  }
 ],
 "metadata": {
  "kernelspec": {
   "display_name": "Python 3 (ipykernel)",
   "language": "python",
   "name": "python3"
  },
  "language_info": {
   "codemirror_mode": {
    "name": "ipython",
    "version": 3
   },
   "file_extension": ".py",
   "mimetype": "text/x-python",
   "name": "python",
   "nbconvert_exporter": "python",
   "pygments_lexer": "ipython3",
   "version": "3.11.3"
  }
 },
 "nbformat": 4,
 "nbformat_minor": 5
}
